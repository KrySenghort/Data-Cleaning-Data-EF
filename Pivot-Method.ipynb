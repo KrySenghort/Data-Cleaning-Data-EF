{
 "cells": [
  {
   "cell_type": "markdown",
   "id": "d80ade98",
   "metadata": {},
   "source": [
    "To **pivot only the text columns** (`country name`, `country code`, `indicator name`, `indicator code`) and normalize the data into **long format** (also known as **tidy format**), you can use `pandas.melt()`.\n",
    "\n",
    "Here's the code:\n",
    "\n",
    "---\n",
    "\n",
    "### ✅ **Python Code to Normalize (Pivot) Text Columns Only**\n",
    "\n",
    "```python\n",
    "import pandas as pd\n",
    "\n",
    "# Load your dataset (assuming from CSV or similar)\n",
    "# df = pd.read_csv(\"your_file.csv\")  # Uncomment if loading from file\n",
    "\n",
    "# Example dataframe (assuming already loaded into df)\n",
    "\n",
    "# Melt the dataframe: keep only the text columns as identifiers\n",
    "df_long = pd.melt(\n",
    "    df,\n",
    "    id_vars=['country name', 'country code', 'indicator name', 'indicator code'],\n",
    "    var_name='Year',\n",
    "    value_name='Value'\n",
    ")\n",
    "\n",
    "# Convert 'Year' to integer (optional, but recommended for analysis)\n",
    "df_long['Year'] = df_long['Year'].astype(int)\n",
    "\n",
    "# Output the normalized data\n",
    "print(df_long.head())\n",
    "```\n",
    "\n",
    "---\n",
    "\n",
    "### 🔄 **What This Does:**\n",
    "\n",
    "* Converts wide columns like `1990`, `1991`, ..., `2022` into a single `Year` column.\n",
    "* Keeps all textual identifiers (`country name`, `indicator name`, etc.) in each row.\n",
    "* The `Value` column holds the actual numeric data (e.g., forest area %).\n",
    "\n",
    "---\n",
    "\n",
    "### 📊 **Resulting Format (example)**\n",
    "\n",
    "| country name | country code | indicator name               | indicator code | Year | Value     |\n",
    "| ------------ | ------------ | ---------------------------- | -------------- | ---- | --------- |\n",
    "| Cambodia     | KHM          | Forest area (% of land area) | AG.LND.FRST.ZS | 1990 | 62.343021 |\n",
    "| Cambodia     | KHM          | Forest area (% of land area) | AG.LND.FRST.ZS | 1991 | 62.216242 |\n",
    "| ...          | ...          | ...                          | ...            | ...  | ...       |"
   ]
  },
  {
   "cell_type": "markdown",
   "id": "d25a07d8",
   "metadata": {},
   "source": []
  }
 ],
 "metadata": {
  "language_info": {
   "name": "python"
  }
 },
 "nbformat": 4,
 "nbformat_minor": 5
}
